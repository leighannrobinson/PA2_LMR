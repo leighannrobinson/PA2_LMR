{
 "cells": [
  {
   "cell_type": "markdown",
   "id": "3e530b90",
   "metadata": {},
   "source": [
    "# Programming Assignment 2\n",
    "## Leighann Robinson\n",
    "### Version 1\n",
    "#### CS150-01 FA 2022"
   ]
  },
  {
   "cell_type": "markdown",
   "id": "615bf36c",
   "metadata": {},
   "source": [
    "append() \n",
    "#### The append() function allows you to add a single item at the end of a list in Python."
   ]
  },
  {
   "cell_type": "code",
   "execution_count": 1,
   "id": "61b3663c",
   "metadata": {},
   "outputs": [
    {
     "data": {
      "text/plain": [
       "['cars', 'trucks', 'scooters', 'bikes']"
      ]
     },
     "execution_count": 1,
     "metadata": {},
     "output_type": "execute_result"
    }
   ],
   "source": [
    "example_list=['cars','trucks','scooters']\n",
    "example_list.append('bikes')\n",
    "example_list"
   ]
  },
  {
   "cell_type": "markdown",
   "id": "549c47b6",
   "metadata": {},
   "source": [
    "extend()\n",
    "#### The extend() function allows you to add specified list elements from one list to the end of a different list in Python. "
   ]
  },
  {
   "cell_type": "code",
   "execution_count": 2,
   "id": "210862af",
   "metadata": {},
   "outputs": [
    {
     "data": {
      "text/plain": [
       "['cars', 'trucks', 'scooters', 'bikes']"
      ]
     },
     "execution_count": 2,
     "metadata": {},
     "output_type": "execute_result"
    }
   ],
   "source": [
    "example_list"
   ]
  },
  {
   "cell_type": "code",
   "execution_count": 3,
   "id": "d430aa25",
   "metadata": {},
   "outputs": [
    {
     "name": "stdout",
     "output_type": "stream",
     "text": [
      "['cars', 'trucks', 'scooters', 'bikes', 'apples', 'cherries', 'oranges']\n"
     ]
    }
   ],
   "source": [
    "fruits=['apples','cherries','oranges']\n",
    "example_list.extend(fruits)\n",
    "print(example_list)"
   ]
  },
  {
   "cell_type": "markdown",
   "id": "809ee3f8",
   "metadata": {},
   "source": [
    "insert()\n",
    "#### The insert() function in Python inserts an object into a list at the given position. Looks like (index, object inserted)."
   ]
  },
  {
   "cell_type": "code",
   "execution_count": 4,
   "id": "fbe031d1",
   "metadata": {},
   "outputs": [
    {
     "data": {
      "text/plain": [
       "['apples', 'cherries', 'oranges']"
      ]
     },
     "execution_count": 4,
     "metadata": {},
     "output_type": "execute_result"
    }
   ],
   "source": [
    "fruits"
   ]
  },
  {
   "cell_type": "code",
   "execution_count": 5,
   "id": "1e00e188",
   "metadata": {},
   "outputs": [
    {
     "name": "stdout",
     "output_type": "stream",
     "text": [
      "['apples', 'bananas', 'cherries', 'oranges']\n"
     ]
    }
   ],
   "source": [
    "fruits.insert(1,'bananas')\n",
    "print(fruits)"
   ]
  },
  {
   "cell_type": "markdown",
   "id": "6fd1857a",
   "metadata": {},
   "source": [
    "remove()\n",
    "#### The remove() method in Python helps to remove an elemnet from a list by using its value or the name of the object in a list of string."
   ]
  },
  {
   "cell_type": "code",
   "execution_count": 6,
   "id": "b55d44af",
   "metadata": {},
   "outputs": [
    {
     "name": "stdout",
     "output_type": "stream",
     "text": [
      "['apples', 'bananas', 'cherries', 'oranges']\n"
     ]
    }
   ],
   "source": [
    "print(fruits)"
   ]
  },
  {
   "cell_type": "code",
   "execution_count": 7,
   "id": "81b12ea0",
   "metadata": {},
   "outputs": [],
   "source": [
    "fruits.remove('cherries')"
   ]
  },
  {
   "cell_type": "code",
   "execution_count": 8,
   "id": "c7eac977",
   "metadata": {},
   "outputs": [
    {
     "name": "stdout",
     "output_type": "stream",
     "text": [
      "['apples', 'bananas', 'oranges']\n"
     ]
    }
   ],
   "source": [
    "print(fruits)"
   ]
  },
  {
   "cell_type": "markdown",
   "id": "cba93411",
   "metadata": {},
   "source": [
    "count()\n",
    "#### The count() method counts the number of occurences of a specified value, item, list, or tuple within a list."
   ]
  },
  {
   "cell_type": "code",
   "execution_count": 9,
   "id": "4303736f",
   "metadata": {},
   "outputs": [
    {
     "name": "stdout",
     "output_type": "stream",
     "text": [
      "['cat', ('dogs', 'cats'), 'dog', 'dog', 'birds', 'dogs', 'cats']\n"
     ]
    }
   ],
   "source": [
    "animals_list=['cat',('dogs','cats'),'dog','dog','birds','dogs','cats']\n",
    "print(animals_list)"
   ]
  },
  {
   "cell_type": "code",
   "execution_count": 10,
   "id": "fb801297",
   "metadata": {},
   "outputs": [
    {
     "data": {
      "text/plain": [
       "2"
      ]
     },
     "execution_count": 10,
     "metadata": {},
     "output_type": "execute_result"
    }
   ],
   "source": [
    "animals_list.count('dog')"
   ]
  },
  {
   "cell_type": "markdown",
   "id": "c3d04237",
   "metadata": {},
   "source": [
    "index()\n",
    "#### The index() method in Python searches for a given element from a list and returns the lowest index where that element appears in the list. Looks like (element searching for index, starting index, ending index)."
   ]
  },
  {
   "cell_type": "code",
   "execution_count": 11,
   "id": "e8a81b56",
   "metadata": {},
   "outputs": [],
   "source": [
    "numbers=[12,1,45,85,99,100,2,1,12,74]"
   ]
  },
  {
   "cell_type": "code",
   "execution_count": 12,
   "id": "ea9776ab",
   "metadata": {},
   "outputs": [
    {
     "data": {
      "text/plain": [
       "3"
      ]
     },
     "execution_count": 12,
     "metadata": {},
     "output_type": "execute_result"
    }
   ],
   "source": [
    "numbers.index(85,0,-1)"
   ]
  },
  {
   "cell_type": "markdown",
   "id": "b7143907",
   "metadata": {},
   "source": [
    "pop()\n",
    "#### The pop() function in Python allows you to remove an item from a list by using its index and will tell you that index's value when you run the cell."
   ]
  },
  {
   "cell_type": "code",
   "execution_count": 13,
   "id": "1bf4f498",
   "metadata": {},
   "outputs": [
    {
     "data": {
      "text/plain": [
       "['cars', 'trucks', 'scooters', 'bikes', 'apples', 'cherries', 'oranges']"
      ]
     },
     "execution_count": 13,
     "metadata": {},
     "output_type": "execute_result"
    }
   ],
   "source": [
    "example_list"
   ]
  },
  {
   "cell_type": "code",
   "execution_count": 14,
   "id": "87dcf307",
   "metadata": {},
   "outputs": [
    {
     "data": {
      "text/plain": [
       "'apples'"
      ]
     },
     "execution_count": 14,
     "metadata": {},
     "output_type": "execute_result"
    }
   ],
   "source": [
    "example_list.pop(4)"
   ]
  },
  {
   "cell_type": "code",
   "execution_count": 15,
   "id": "76379d17",
   "metadata": {},
   "outputs": [
    {
     "name": "stdout",
     "output_type": "stream",
     "text": [
      "['cars', 'trucks', 'scooters', 'bikes', 'cherries', 'oranges']\n"
     ]
    }
   ],
   "source": [
    "print(example_list)"
   ]
  },
  {
   "cell_type": "markdown",
   "id": "6c73020d",
   "metadata": {},
   "source": [
    "sorted()\n",
    "#### The sorted() function in Python allows you to temporarily rearrange the items in a list, but does not change them in the original list."
   ]
  },
  {
   "cell_type": "code",
   "execution_count": 16,
   "id": "a477b2c9",
   "metadata": {},
   "outputs": [
    {
     "data": {
      "text/plain": [
       "['cars', 'trucks', 'scooters', 'bikes', 'cherries', 'oranges']"
      ]
     },
     "execution_count": 16,
     "metadata": {},
     "output_type": "execute_result"
    }
   ],
   "source": [
    "example_list"
   ]
  },
  {
   "cell_type": "code",
   "execution_count": 17,
   "id": "44dc321f",
   "metadata": {},
   "outputs": [
    {
     "name": "stdout",
     "output_type": "stream",
     "text": [
      "['trucks', 'scooters', 'oranges', 'cherries', 'cars', 'bikes']\n"
     ]
    }
   ],
   "source": [
    "print(sorted(example_list, reverse=True))"
   ]
  },
  {
   "cell_type": "code",
   "execution_count": 18,
   "id": "79f4bdf9",
   "metadata": {},
   "outputs": [
    {
     "name": "stdout",
     "output_type": "stream",
     "text": [
      "['cars', 'trucks', 'scooters', 'bikes', 'cherries', 'oranges']\n"
     ]
    }
   ],
   "source": [
    "print(example_list)"
   ]
  },
  {
   "cell_type": "markdown",
   "id": "fdf46247",
   "metadata": {},
   "source": [
    "copy()\n",
    "#### The copy() method in Python will return a copy of a specified list which can then be inserted in a new list. Changing this copy of the original list does not change the original list, and changing the original list does not change the copy."
   ]
  },
  {
   "cell_type": "code",
   "execution_count": 19,
   "id": "4e824047",
   "metadata": {},
   "outputs": [
    {
     "name": "stdout",
     "output_type": "stream",
     "text": [
      "['blue', 'yellow', 'purple', 'green']\n"
     ]
    }
   ],
   "source": [
    "colors=['blue','yellow','purple','green']\n",
    "print(colors)"
   ]
  },
  {
   "cell_type": "code",
   "execution_count": 20,
   "id": "84630e0c",
   "metadata": {},
   "outputs": [
    {
     "name": "stdout",
     "output_type": "stream",
     "text": [
      "['blue', 'yellow', 'purple', 'green']\n"
     ]
    }
   ],
   "source": [
    "my_color_list=colors.copy()\n",
    "print(my_color_list)"
   ]
  },
  {
   "cell_type": "code",
   "execution_count": 21,
   "id": "88afdf94",
   "metadata": {},
   "outputs": [
    {
     "name": "stdout",
     "output_type": "stream",
     "text": [
      "['blue', 'purple', 'green']\n",
      "['blue', 'yellow', 'purple', 'green']\n"
     ]
    }
   ],
   "source": [
    "my_color_list.pop(1)\n",
    "print(my_color_list)\n",
    "print(colors)"
   ]
  },
  {
   "cell_type": "code",
   "execution_count": 22,
   "id": "13896640",
   "metadata": {},
   "outputs": [
    {
     "name": "stdout",
     "output_type": "stream",
     "text": [
      "['blue', 'yellow', 'purple', 'green', 'red']\n",
      "['blue', 'purple', 'green']\n"
     ]
    }
   ],
   "source": [
    "colors.append('red')\n",
    "print(colors)\n",
    "print(my_color_list)"
   ]
  },
  {
   "cell_type": "markdown",
   "id": "bc7e36ff",
   "metadata": {},
   "source": [
    "clear()\n",
    "#### The clear() method in Python clears out and removes all of the elements in a list."
   ]
  },
  {
   "cell_type": "code",
   "execution_count": 23,
   "id": "73d9fb75",
   "metadata": {},
   "outputs": [
    {
     "data": {
      "text/plain": [
       "['cat', ('dogs', 'cats'), 'dog', 'dog', 'birds', 'dogs', 'cats']"
      ]
     },
     "execution_count": 23,
     "metadata": {},
     "output_type": "execute_result"
    }
   ],
   "source": [
    "animals_list"
   ]
  },
  {
   "cell_type": "code",
   "execution_count": 24,
   "id": "aaf644bc",
   "metadata": {},
   "outputs": [],
   "source": [
    "animals_list.clear()"
   ]
  },
  {
   "cell_type": "code",
   "execution_count": 25,
   "id": "6cff8d62",
   "metadata": {},
   "outputs": [
    {
     "name": "stdout",
     "output_type": "stream",
     "text": [
      "[]\n"
     ]
    }
   ],
   "source": [
    "print(animals_list)"
   ]
  },
  {
   "cell_type": "markdown",
   "id": "56c02368",
   "metadata": {},
   "source": [
    "list()\n",
    "#### The list() function in Python returns a list object."
   ]
  },
  {
   "cell_type": "code",
   "execution_count": 26,
   "id": "ad44f35c",
   "metadata": {},
   "outputs": [
    {
     "name": "stdout",
     "output_type": "stream",
     "text": [
      "Good Morning\n"
     ]
    }
   ],
   "source": [
    "phrase=('Good Morning')\n",
    "print(phrase)"
   ]
  },
  {
   "cell_type": "code",
   "execution_count": 27,
   "id": "b376a330",
   "metadata": {},
   "outputs": [
    {
     "name": "stdout",
     "output_type": "stream",
     "text": [
      "['G', 'o', 'o', 'd', ' ', 'M', 'o', 'r', 'n', 'i', 'n', 'g']\n"
     ]
    }
   ],
   "source": [
    "phrase=list('Good Morning')\n",
    "print(phrase)"
   ]
  },
  {
   "cell_type": "markdown",
   "id": "bcc750f5",
   "metadata": {},
   "source": [
    "len()\n",
    "#### The len() function in Python returns the number of elements in the tuple."
   ]
  },
  {
   "cell_type": "code",
   "execution_count": 28,
   "id": "a145f3f9",
   "metadata": {},
   "outputs": [
    {
     "name": "stdout",
     "output_type": "stream",
     "text": [
      "(123, 'abc', 'Leighann')\n"
     ]
    },
    {
     "data": {
      "text/plain": [
       "3"
      ]
     },
     "execution_count": 28,
     "metadata": {},
     "output_type": "execute_result"
    }
   ],
   "source": [
    "tuple1=(123,'abc','Leighann')\n",
    "print(tuple1)\n",
    "len(tuple1)"
   ]
  },
  {
   "cell_type": "markdown",
   "id": "349ef8e3",
   "metadata": {},
   "source": [
    "max()\n",
    "#### The max() function in Python returns the element in the list the has the maximum value."
   ]
  },
  {
   "cell_type": "code",
   "execution_count": 29,
   "id": "35a1be88",
   "metadata": {},
   "outputs": [
    {
     "name": "stdout",
     "output_type": "stream",
     "text": [
      "('Leighann', 'robinson', 'Class', 'welcome')\n"
     ]
    },
    {
     "data": {
      "text/plain": [
       "'welcome'"
      ]
     },
     "execution_count": 29,
     "metadata": {},
     "output_type": "execute_result"
    }
   ],
   "source": [
    "tuple2=('Leighann','robinson','Class','welcome')\n",
    "print(tuple2)\n",
    "max(tuple2)"
   ]
  },
  {
   "cell_type": "markdown",
   "id": "5f90a95d",
   "metadata": {},
   "source": [
    "min()\n",
    "#### The min() function in Python returns the element in the list the has the minimum value."
   ]
  },
  {
   "cell_type": "code",
   "execution_count": 30,
   "id": "6aeec3ad",
   "metadata": {},
   "outputs": [
    {
     "name": "stdout",
     "output_type": "stream",
     "text": [
      "('Leighann', 'robinson', 'Class', 'welcome')\n"
     ]
    },
    {
     "data": {
      "text/plain": [
       "'Class'"
      ]
     },
     "execution_count": 30,
     "metadata": {},
     "output_type": "execute_result"
    }
   ],
   "source": [
    "print(tuple2)\n",
    "min(tuple2)"
   ]
  }
 ],
 "metadata": {
  "kernelspec": {
   "display_name": "Python 3 (ipykernel)",
   "language": "python",
   "name": "python3"
  },
  "language_info": {
   "codemirror_mode": {
    "name": "ipython",
    "version": 3
   },
   "file_extension": ".py",
   "mimetype": "text/x-python",
   "name": "python",
   "nbconvert_exporter": "python",
   "pygments_lexer": "ipython3",
   "version": "3.9.12"
  }
 },
 "nbformat": 4,
 "nbformat_minor": 5
}
